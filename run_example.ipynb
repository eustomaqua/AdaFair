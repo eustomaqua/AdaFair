{
 "cells": [
  {
   "cell_type": "code",
   "execution_count": null,
   "metadata": {},
   "outputs": [],
   "source": [
    "from sklearn.model_selection import StratifiedShuffleSplit\n",
    "from adafair import AdaFair\n",
    "from adafair import load_adult\n",
    "from sklearn.metrics import accuracy_score\n",
    "import warnings\n",
    "warnings.filterwarnings(\"ignore\")"
   ]
  },
  {
   "cell_type": "code",
   "execution_count": null,
   "metadata": {
    "pycharm": {
     "name": "#%%\n"
    }
   },
   "outputs": [],
   "source": [
    "def calculate_performance(data, labels, predictions, saIndex, saValue):\n",
    "    tp_protected = 0.\n",
    "    tn_protected = 0.\n",
    "    fp_protected = 0.\n",
    "    fn_protected = 0.\n",
    "\n",
    "    tp_non_protected = 0.\n",
    "    tn_non_protected = 0.\n",
    "    fp_non_protected = 0.\n",
    "    fn_non_protected = 0.\n",
    "    for idx, val in enumerate(data):\n",
    "        # protected population\n",
    "        if val[saIndex] == saValue:\n",
    "            # correctly classified\n",
    "            if labels[idx] == predictions[idx]:\n",
    "                if labels[idx] == 1:\n",
    "                    tp_protected += 1.\n",
    "                else:\n",
    "                    tn_protected += 1.\n",
    "            # misclassified\n",
    "            else:\n",
    "                if labels[idx] == 1:\n",
    "                    fn_protected += 1.\n",
    "                else:\n",
    "                    fp_protected += 1.\n",
    "        else:\n",
    "            # correctly classified\n",
    "            if labels[idx] == predictions[idx]:\n",
    "                if labels[idx] == 1:\n",
    "                    tp_non_protected += 1.\n",
    "                else:\n",
    "                    tn_non_protected += 1.\n",
    "            # misclassified\n",
    "            else:\n",
    "                if labels[idx] == 1:\n",
    "                    fn_non_protected += 1.\n",
    "                else:\n",
    "                    fp_non_protected += 1.\n",
    "\n",
    "    tpr_protected = tp_protected / (tp_protected + fn_protected)\n",
    "    tnr_protected = tn_protected / (tn_protected + fp_protected)\n",
    "\n",
    "    tpr_non_protected = tp_non_protected / (tp_non_protected + fn_non_protected)\n",
    "    tnr_non_protected = tn_non_protected / (tn_non_protected + fp_non_protected)\n",
    "\n",
    "    output = dict()\n",
    "    output[\"balanced_accuracy\"] =( (tp_protected + tp_non_protected)/(tp_protected + tp_non_protected + fn_protected + fn_non_protected) +\n",
    "                                   (tn_protected + tn_non_protected) / (tn_protected + tn_non_protected + fp_protected + fp_non_protected))*0.5\n",
    "\n",
    "    output[\"accuracy\"] = accuracy_score(labels, predictions)\n",
    "    output[\"fairness\"] = abs(tpr_non_protected - tpr_protected) + abs(tnr_non_protected - tnr_protected)\n",
    "    output[\"TPR_protected\"] = tpr_protected\n",
    "    output[\"TPR_non_protected\"] = tpr_non_protected\n",
    "    output[\"TNR_protected\"] = tnr_protected\n",
    "    output[\"TNR_non_protected\"] = tnr_non_protected\n",
    "    return output"
   ]
  },
  {
   "cell_type": "code",
   "execution_count": null,
   "metadata": {
    "pycharm": {
     "name": "#%%\n"
    }
   },
   "outputs": [],
   "source": [
    "X, y, sa_index, p_Group = load_adult(\"race\")"
   ]
  },
  {
   "cell_type": "code",
   "execution_count": null,
   "metadata": {
    "pycharm": {
     "name": "#%%\n"
    }
   },
   "outputs": [],
   "source": [
    "strat_suffle = StratifiedShuffleSplit(n_splits=5, test_size=0.2)\n",
    "results = []\n",
    "for train_index, test_index in strat_suffle.split(X, y):\n",
    "    X_train, X_test = X[train_index], X[test_index]\n",
    "    y_train, y_test = y[train_index], y[test_index]\n",
    "    classifier = AdaFair(n_estimators=200, saIndex=sa_index, saValue=p_Group, trade_off_c=1.0)\n",
    "\n",
    "    classifier.fit(X_train, y_train)\n",
    "    y_pred_labels = classifier.predict(X_test)\n",
    "    print(calculate_performance(X_test, y_test, y_pred_labels,  sa_index, p_Group))"
   ]
  },
  {
   "cell_type": "code",
   "execution_count": null,
   "metadata": {
    "pycharm": {
     "name": "#%%\n"
    }
   },
   "outputs": [],
   "source": []
  }
 ],
 "metadata": {
  "kernelspec": {
   "display_name": "Python 3 (ipykernel)",
   "language": "python",
   "name": "python3"
  },
  "language_info": {
   "codemirror_mode": {
    "name": "ipython",
    "version": 3
   },
   "file_extension": ".py",
   "mimetype": "text/x-python",
   "name": "python",
   "nbconvert_exporter": "python",
   "pygments_lexer": "ipython3",
   "version": "3.9.13"
  }
 },
 "nbformat": 4,
 "nbformat_minor": 1
}