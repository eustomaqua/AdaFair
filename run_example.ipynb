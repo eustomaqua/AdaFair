{
 "cells": [
  {
   "cell_type": "code",
   "execution_count": 3,
   "metadata": {
    "collapsed": true
   },
   "outputs": [],
   "source": [
    "from sklearn.model_selection import StratifiedShuffleSplit\n",
    "from adafair import AdaFair\n",
    "from adafair import load_adult\n",
    "from sklearn.metrics import accuracy_score\n",
    "import warnings\n",
    "warnings.filterwarnings(\"ignore\")"
   ]
  },
  {
   "cell_type": "code",
   "execution_count": 4,
   "outputs": [],
   "source": [
    "def calculate_performance(data, labels, predictions, saIndex, saValue):\n",
    "    tp_protected = 0.\n",
    "    tn_protected = 0.\n",
    "    fp_protected = 0.\n",
    "    fn_protected = 0.\n",
    "\n",
    "    tp_non_protected = 0.\n",
    "    tn_non_protected = 0.\n",
    "    fp_non_protected = 0.\n",
    "    fn_non_protected = 0.\n",
    "    for idx, val in enumerate(data):\n",
    "        # protected population\n",
    "        if val[saIndex] == saValue:\n",
    "            # correctly classified\n",
    "            if labels[idx] == predictions[idx]:\n",
    "                if labels[idx] == 1:\n",
    "                    tp_protected += 1.\n",
    "                else:\n",
    "                    tn_protected += 1.\n",
    "            # misclassified\n",
    "            else:\n",
    "                if labels[idx] == 1:\n",
    "                    fn_protected += 1.\n",
    "                else:\n",
    "                    fp_protected += 1.\n",
    "        else:\n",
    "            # correctly classified\n",
    "            if labels[idx] == predictions[idx]:\n",
    "                if labels[idx] == 1:\n",
    "                    tp_non_protected += 1.\n",
    "                else:\n",
    "                    tn_non_protected += 1.\n",
    "            # misclassified\n",
    "            else:\n",
    "                if labels[idx] == 1:\n",
    "                    fn_non_protected += 1.\n",
    "                else:\n",
    "                    fp_non_protected += 1.\n",
    "\n",
    "    tpr_protected = tp_protected / (tp_protected + fn_protected)\n",
    "    tnr_protected = tn_protected / (tn_protected + fp_protected)\n",
    "\n",
    "    tpr_non_protected = tp_non_protected / (tp_non_protected + fn_non_protected)\n",
    "    tnr_non_protected = tn_non_protected / (tn_non_protected + fp_non_protected)\n",
    "\n",
    "    output = dict()\n",
    "    output[\"balanced_accuracy\"] =( (tp_protected + tp_non_protected)/(tp_protected + tp_non_protected + fn_protected + fn_non_protected) +\n",
    "                                   (tn_protected + tn_non_protected) / (tn_protected + tn_non_protected + fp_protected + fp_non_protected))*0.5\n",
    "\n",
    "    output[\"accuracy\"] = accuracy_score(labels, predictions)\n",
    "    output[\"fairness\"] = abs(tpr_non_protected - tpr_protected) + abs(tnr_non_protected - tnr_protected)\n",
    "    output[\"TPR_protected\"] = tpr_protected\n",
    "    output[\"TPR_non_protected\"] = tpr_non_protected\n",
    "    output[\"TNR_protected\"] = tnr_protected\n",
    "    output[\"TNR_non_protected\"] = tnr_non_protected\n",
    "    return output"
   ],
   "metadata": {
    "collapsed": false,
    "pycharm": {
     "name": "#%%\n"
    }
   }
  },
  {
   "cell_type": "code",
   "execution_count": 5,
   "outputs": [],
   "source": [
    "X, y, sa_index, p_Group = load_adult(\"race\")"
   ],
   "metadata": {
    "collapsed": false,
    "pycharm": {
     "name": "#%%\n"
    }
   }
  },
  {
   "cell_type": "code",
   "execution_count": 8,
   "outputs": [
    {
     "name": "stdout",
     "output_type": "stream",
     "text": [
      "{'balanced_accuracy': 0.7967634749816042, 'accuracy': 0.8219147758716104, 'fairness': 0.051839908506183585, 'TPR_protected': 0.7336956521739131, 'TPR_non_protected': 0.7480544747081712, 'TNR_protected': 0.8780709736123748, 'TNR_non_protected': 0.8405898876404494}\n",
      "{'balanced_accuracy': 0.807815292231683, 'accuracy': 0.7969009407858328, 'fairness': 0.10075486727097083, 'TPR_protected': 0.8731707317073171, 'TPR_non_protected': 0.8250614250614251, 'TNR_protected': 0.8301886792452831, 'TNR_non_protected': 0.7775431186202042}\n",
      "{'balanced_accuracy': 0.7976707860296437, 'accuracy': 0.827780852241284, 'fairness': 0.08583055797602135, 'TPR_protected': 0.79, 'TPR_non_protected': 0.7328431372549019, 'TNR_protected': 0.881578947368421, 'TNR_non_protected': 0.8529052521374978}\n"
     ]
    },
    {
     "ename": "KeyboardInterrupt",
     "evalue": "",
     "output_type": "error",
     "traceback": [
      "\u001B[1;31m---------------------------------------------------------------------------\u001B[0m",
      "\u001B[1;31mKeyboardInterrupt\u001B[0m                         Traceback (most recent call last)",
      "Cell \u001B[1;32mIn [8], line 8\u001B[0m\n\u001B[0;32m      5\u001B[0m y_train, y_test \u001B[38;5;241m=\u001B[39m y[train_index], y[test_index]\n\u001B[0;32m      6\u001B[0m classifier \u001B[38;5;241m=\u001B[39m AdaFair(n_estimators\u001B[38;5;241m=\u001B[39m\u001B[38;5;241m200\u001B[39m, saIndex\u001B[38;5;241m=\u001B[39msa_index, saValue\u001B[38;5;241m=\u001B[39mp_Group, c\u001B[38;5;241m=\u001B[39m\u001B[38;5;241m1.0\u001B[39m)\n\u001B[1;32m----> 8\u001B[0m \u001B[43mclassifier\u001B[49m\u001B[38;5;241;43m.\u001B[39;49m\u001B[43mfit\u001B[49m\u001B[43m(\u001B[49m\u001B[43mX_train\u001B[49m\u001B[43m,\u001B[49m\u001B[43m \u001B[49m\u001B[43my_train\u001B[49m\u001B[43m)\u001B[49m\n\u001B[0;32m      9\u001B[0m y_pred_labels \u001B[38;5;241m=\u001B[39m classifier\u001B[38;5;241m.\u001B[39mpredict(X_test)\n\u001B[0;32m     10\u001B[0m \u001B[38;5;28mprint\u001B[39m(calculate_performance(X_test, y_test, y_pred_labels,  sa_index, p_Group))\n",
      "File \u001B[1;32m~\\PycharmProjects\\AdaFair\\adafair\\AdaFair.py:478\u001B[0m, in \u001B[0;36mAdaFair.fit\u001B[1;34m(self, X, y, sample_weight)\u001B[0m\n\u001B[0;32m    475\u001B[0m \t\u001B[38;5;28;01mraise\u001B[39;00m \u001B[38;5;167;01mValueError\u001B[39;00m(\u001B[38;5;124m\"\u001B[39m\u001B[38;5;124malgorithm \u001B[39m\u001B[38;5;132;01m%s\u001B[39;00m\u001B[38;5;124m is not supported\u001B[39m\u001B[38;5;124m\"\u001B[39m \u001B[38;5;241m%\u001B[39m \u001B[38;5;28mself\u001B[39m\u001B[38;5;241m.\u001B[39malgorithm)\n\u001B[0;32m    477\u001B[0m \u001B[38;5;66;03m# Fit\u001B[39;00m\n\u001B[1;32m--> 478\u001B[0m \u001B[38;5;28;01mreturn\u001B[39;00m \u001B[38;5;28;43msuper\u001B[39;49m\u001B[43m(\u001B[49m\u001B[43mAdaFair\u001B[49m\u001B[43m,\u001B[49m\u001B[43m \u001B[49m\u001B[38;5;28;43mself\u001B[39;49m\u001B[43m)\u001B[49m\u001B[38;5;241;43m.\u001B[39;49m\u001B[43mfit\u001B[49m\u001B[43m(\u001B[49m\u001B[43mX\u001B[49m\u001B[43m,\u001B[49m\u001B[43m \u001B[49m\u001B[43my\u001B[49m\u001B[43m,\u001B[49m\u001B[43m \u001B[49m\u001B[43msample_weight\u001B[49m\u001B[43m)\u001B[49m\n",
      "File \u001B[1;32m~\\PycharmProjects\\AdaFair\\adafair\\AdaFair.py:144\u001B[0m, in \u001B[0;36mBaseWeightBoosting.fit\u001B[1;34m(self, X, y, sample_weight)\u001B[0m\n\u001B[0;32m    140\u001B[0m \t\u001B[38;5;28mself\u001B[39m\u001B[38;5;241m.\u001B[39mpredictions_array_valid \u001B[38;5;241m=\u001B[39m np\u001B[38;5;241m.\u001B[39mzeros([\u001B[38;5;28mself\u001B[39m\u001B[38;5;241m.\u001B[39mX_valid\u001B[38;5;241m.\u001B[39mshape[\u001B[38;5;241m0\u001B[39m], \u001B[38;5;241m2\u001B[39m])\n\u001B[0;32m    142\u001B[0m \u001B[38;5;28;01mfor\u001B[39;00m iboost \u001B[38;5;129;01min\u001B[39;00m \u001B[38;5;28mrange\u001B[39m(\u001B[38;5;28mself\u001B[39m\u001B[38;5;241m.\u001B[39mn_estimators):\n\u001B[0;32m    143\u001B[0m \t\u001B[38;5;66;03m# Boosting step\u001B[39;00m\n\u001B[1;32m--> 144\u001B[0m \tsample_weight, alpha, error, fairness, balanced_error, cumulative_error \u001B[38;5;241m=\u001B[39m \u001B[38;5;28;43mself\u001B[39;49m\u001B[38;5;241;43m.\u001B[39;49m\u001B[43m_boost\u001B[49m\u001B[43m(\u001B[49m\n\u001B[0;32m    145\u001B[0m \u001B[43m\t\t\u001B[49m\u001B[43miboost\u001B[49m\u001B[43m,\u001B[49m\n\u001B[0;32m    146\u001B[0m \u001B[43m\t\t\u001B[49m\u001B[43mX\u001B[49m\u001B[43m,\u001B[49m\u001B[43m \u001B[49m\u001B[43my\u001B[49m\u001B[43m,\u001B[49m\n\u001B[0;32m    147\u001B[0m \u001B[43m\t\t\u001B[49m\u001B[43msample_weight\u001B[49m\u001B[43m,\u001B[49m\n\u001B[0;32m    148\u001B[0m \u001B[43m\t\t\u001B[49m\u001B[43mrandom_state\u001B[49m\u001B[43m)\u001B[49m\n\u001B[0;32m    150\u001B[0m \t\u001B[38;5;66;03m# Early termination\u001B[39;00m\n\u001B[0;32m    151\u001B[0m \t\u001B[38;5;28;01mif\u001B[39;00m sample_weight \u001B[38;5;129;01mis\u001B[39;00m \u001B[38;5;28;01mNone\u001B[39;00m:\n",
      "File \u001B[1;32m~\\PycharmProjects\\AdaFair\\adafair\\AdaFair.py:499\u001B[0m, in \u001B[0;36mAdaFair._boost\u001B[1;34m(self, iboost, X, y, sample_weight, random_state)\u001B[0m\n\u001B[0;32m    498\u001B[0m \u001B[38;5;28;01mdef\u001B[39;00m \u001B[38;5;21m_boost\u001B[39m(\u001B[38;5;28mself\u001B[39m, iboost, X, y, sample_weight, random_state):\n\u001B[1;32m--> 499\u001B[0m \t\u001B[38;5;28;01mreturn\u001B[39;00m \u001B[38;5;28;43mself\u001B[39;49m\u001B[38;5;241;43m.\u001B[39;49m\u001B[43m_boost_discrete\u001B[49m\u001B[43m(\u001B[49m\u001B[43miboost\u001B[49m\u001B[43m,\u001B[49m\u001B[43m \u001B[49m\u001B[43mX\u001B[49m\u001B[43m,\u001B[49m\u001B[43m \u001B[49m\u001B[43my\u001B[49m\u001B[43m,\u001B[49m\u001B[43m \u001B[49m\u001B[43msample_weight\u001B[49m\u001B[43m,\u001B[49m\u001B[43m \u001B[49m\u001B[43mrandom_state\u001B[49m\u001B[43m)\u001B[49m\n",
      "File \u001B[1;32m~\\PycharmProjects\\AdaFair\\adafair\\AdaFair.py:658\u001B[0m, in \u001B[0;36mAdaFair._boost_discrete\u001B[1;34m(self, iboost, X, y, sample_weight, random_state)\u001B[0m\n\u001B[0;32m    656\u001B[0m \u001B[38;5;28;01melse\u001B[39;00m:\n\u001B[0;32m    657\u001B[0m \t\u001B[38;5;28;01mif\u001B[39;00m \u001B[38;5;28mself\u001B[39m\u001B[38;5;241m.\u001B[39mcsb \u001B[38;5;241m==\u001B[39m \u001B[38;5;124m\"\u001B[39m\u001B[38;5;124mCSB2\u001B[39m\u001B[38;5;124m\"\u001B[39m:\n\u001B[1;32m--> 658\u001B[0m \t\tsample_weight[idx] \u001B[38;5;241m*\u001B[39m\u001B[38;5;241m=\u001B[39m \u001B[38;5;28;43mself\u001B[39;49m\u001B[38;5;241;43m.\u001B[39;49m\u001B[43mcost_non_protected_negative\u001B[49m\u001B[43m \u001B[49m\u001B[38;5;241;43m*\u001B[39;49m\u001B[43m \u001B[49m\u001B[43mnp\u001B[49m\u001B[38;5;241;43m.\u001B[39;49m\u001B[43mexp\u001B[49m\u001B[43m(\u001B[49m\n\u001B[0;32m    659\u001B[0m \u001B[43m\t\t\t\u001B[49m\u001B[43malpha\u001B[49m\u001B[43m \u001B[49m\u001B[38;5;241;43m*\u001B[39;49m\u001B[43m \u001B[49m\u001B[38;5;28;43mmax\u001B[39;49m\u001B[43m(\u001B[49m\u001B[43mproba\u001B[49m\u001B[43m[\u001B[49m\u001B[43midx\u001B[49m\u001B[43m]\u001B[49m\u001B[43m[\u001B[49m\u001B[38;5;241;43m0\u001B[39;49m\u001B[43m]\u001B[49m\u001B[43m,\u001B[49m\u001B[43m \u001B[49m\u001B[43mproba\u001B[49m\u001B[43m[\u001B[49m\u001B[43midx\u001B[49m\u001B[43m]\u001B[49m\u001B[43m[\u001B[49m\u001B[38;5;241;43m1\u001B[39;49m\u001B[43m]\u001B[49m\u001B[43m)\u001B[49m\u001B[43m)\u001B[49m\n\u001B[0;32m    660\u001B[0m \t\u001B[38;5;28;01melif\u001B[39;00m \u001B[38;5;28mself\u001B[39m\u001B[38;5;241m.\u001B[39mcsb \u001B[38;5;241m==\u001B[39m \u001B[38;5;124m\"\u001B[39m\u001B[38;5;124mCSB1\u001B[39m\u001B[38;5;124m\"\u001B[39m:\n\u001B[0;32m    661\u001B[0m \t\tsample_weight[idx] \u001B[38;5;241m*\u001B[39m\u001B[38;5;241m=\u001B[39m \u001B[38;5;28mself\u001B[39m\u001B[38;5;241m.\u001B[39mcost_non_protected_negative \u001B[38;5;241m*\u001B[39m np\u001B[38;5;241m.\u001B[39mexp(alpha)\n",
      "\u001B[1;31mKeyboardInterrupt\u001B[0m: "
     ]
    }
   ],
   "source": [
    "strat_suffle = StratifiedShuffleSplit(n_splits=5, test_size=0.2)\n",
    "results = []\n",
    "for train_index, test_index in strat_suffle.split(X, y):\n",
    "    X_train, X_test = X[train_index], X[test_index]\n",
    "    y_train, y_test = y[train_index], y[test_index]\n",
    "    classifier = AdaFair(n_estimators=200, saIndex=sa_index, saValue=p_Group, trade_off_c=1.0)\n",
    "\n",
    "    classifier.fit(X_train, y_train)\n",
    "    y_pred_labels = classifier.predict(X_test)\n",
    "    print(calculate_performance(X_test, y_test, y_pred_labels,  sa_index, p_Group))"
   ],
   "metadata": {
    "collapsed": false,
    "pycharm": {
     "name": "#%%\n"
    }
   }
  },
  {
   "cell_type": "code",
   "execution_count": null,
   "outputs": [],
   "source": [],
   "metadata": {
    "collapsed": false,
    "pycharm": {
     "name": "#%%\n"
    }
   }
  }
 ],
 "metadata": {
  "kernelspec": {
   "display_name": "Python 3",
   "language": "python",
   "name": "python3"
  },
  "language_info": {
   "codemirror_mode": {
    "name": "ipython",
    "version": 2
   },
   "file_extension": ".py",
   "mimetype": "text/x-python",
   "name": "python",
   "nbconvert_exporter": "python",
   "pygments_lexer": "ipython2",
   "version": "2.7.6"
  }
 },
 "nbformat": 4,
 "nbformat_minor": 0
}